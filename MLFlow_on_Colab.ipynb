{
  "nbformat": 4,
  "nbformat_minor": 0,
  "metadata": {
    "colab": {
      "name": "MLFlow on Colab.ipynb",
      "provenance": [],
      "collapsed_sections": []
    },
    "kernelspec": {
      "name": "python3",
      "display_name": "Python 3"
    }
  },
  "cells": [
    {
      "cell_type": "code",
      "metadata": {
        "colab": {
          "base_uri": "https://localhost:8080/"
        },
        "id": "x8RGk73v55fQ",
        "outputId": "54cbe5f3-afcb-4e84-8be7-fc9594606be5"
      },
      "source": [
        "!pip install mlflow"
      ],
      "execution_count": 1,
      "outputs": [
        {
          "output_type": "stream",
          "name": "stdout",
          "text": [
            "Collecting mlflow\n",
            "  Downloading mlflow-1.20.1-py3-none-any.whl (14.6 MB)\n",
            "\u001b[K     |████████████████████████████████| 14.6 MB 79 kB/s \n",
            "\u001b[?25hCollecting databricks-cli>=0.8.7\n",
            "  Downloading databricks-cli-0.15.0.tar.gz (56 kB)\n",
            "\u001b[K     |████████████████████████████████| 56 kB 3.4 MB/s \n",
            "\u001b[?25hRequirement already satisfied: importlib-metadata!=4.7.0,>=3.7.0 in /usr/local/lib/python3.7/dist-packages (from mlflow) (4.6.4)\n",
            "Collecting alembic<=1.4.1\n",
            "  Downloading alembic-1.4.1.tar.gz (1.1 MB)\n",
            "\u001b[K     |████████████████████████████████| 1.1 MB 44.6 MB/s \n",
            "\u001b[?25hRequirement already satisfied: sqlparse>=0.3.1 in /usr/local/lib/python3.7/dist-packages (from mlflow) (0.4.1)\n",
            "Requirement already satisfied: numpy in /usr/local/lib/python3.7/dist-packages (from mlflow) (1.19.5)\n",
            "Collecting gitpython>=2.1.0\n",
            "  Downloading GitPython-3.1.18-py3-none-any.whl (170 kB)\n",
            "\u001b[K     |████████████████████████████████| 170 kB 47.8 MB/s \n",
            "\u001b[?25hRequirement already satisfied: pytz in /usr/local/lib/python3.7/dist-packages (from mlflow) (2018.9)\n",
            "Requirement already satisfied: requests>=2.17.3 in /usr/local/lib/python3.7/dist-packages (from mlflow) (2.23.0)\n",
            "Requirement already satisfied: entrypoints in /usr/local/lib/python3.7/dist-packages (from mlflow) (0.3)\n",
            "Requirement already satisfied: cloudpickle in /usr/local/lib/python3.7/dist-packages (from mlflow) (1.3.0)\n",
            "Requirement already satisfied: Flask in /usr/local/lib/python3.7/dist-packages (from mlflow) (1.1.4)\n",
            "Requirement already satisfied: click>=7.0 in /usr/local/lib/python3.7/dist-packages (from mlflow) (7.1.2)\n",
            "Collecting querystring-parser\n",
            "  Downloading querystring_parser-1.2.4-py2.py3-none-any.whl (7.9 kB)\n",
            "Collecting pyyaml>=5.1\n",
            "  Downloading PyYAML-5.4.1-cp37-cp37m-manylinux1_x86_64.whl (636 kB)\n",
            "\u001b[K     |████████████████████████████████| 636 kB 43.3 MB/s \n",
            "\u001b[?25hRequirement already satisfied: pandas in /usr/local/lib/python3.7/dist-packages (from mlflow) (1.1.5)\n",
            "Requirement already satisfied: packaging in /usr/local/lib/python3.7/dist-packages (from mlflow) (21.0)\n",
            "Requirement already satisfied: sqlalchemy in /usr/local/lib/python3.7/dist-packages (from mlflow) (1.4.22)\n",
            "Collecting gunicorn\n",
            "  Downloading gunicorn-20.1.0-py3-none-any.whl (79 kB)\n",
            "\u001b[K     |████████████████████████████████| 79 kB 8.7 MB/s \n",
            "\u001b[?25hRequirement already satisfied: protobuf>=3.7.0 in /usr/local/lib/python3.7/dist-packages (from mlflow) (3.17.3)\n",
            "Collecting prometheus-flask-exporter\n",
            "  Downloading prometheus_flask_exporter-0.18.2.tar.gz (22 kB)\n",
            "Collecting docker>=4.0.0\n",
            "  Downloading docker-5.0.2-py2.py3-none-any.whl (145 kB)\n",
            "\u001b[K     |████████████████████████████████| 145 kB 64.5 MB/s \n",
            "\u001b[?25hCollecting Mako\n",
            "  Downloading Mako-1.1.5-py2.py3-none-any.whl (75 kB)\n",
            "\u001b[K     |████████████████████████████████| 75 kB 5.2 MB/s \n",
            "\u001b[?25hCollecting python-editor>=0.3\n",
            "  Downloading python_editor-1.0.4-py3-none-any.whl (4.9 kB)\n",
            "Requirement already satisfied: python-dateutil in /usr/local/lib/python3.7/dist-packages (from alembic<=1.4.1->mlflow) (2.8.2)\n",
            "Requirement already satisfied: tabulate>=0.7.7 in /usr/local/lib/python3.7/dist-packages (from databricks-cli>=0.8.7->mlflow) (0.8.9)\n",
            "Requirement already satisfied: six>=1.10.0 in /usr/local/lib/python3.7/dist-packages (from databricks-cli>=0.8.7->mlflow) (1.15.0)\n",
            "Collecting websocket-client>=0.32.0\n",
            "  Downloading websocket_client-1.2.1-py2.py3-none-any.whl (52 kB)\n",
            "\u001b[K     |████████████████████████████████| 52 kB 1.6 MB/s \n",
            "\u001b[?25hCollecting gitdb<5,>=4.0.1\n",
            "  Downloading gitdb-4.0.7-py3-none-any.whl (63 kB)\n",
            "\u001b[K     |████████████████████████████████| 63 kB 2.0 MB/s \n",
            "\u001b[?25hRequirement already satisfied: typing-extensions>=3.7.4.0 in /usr/local/lib/python3.7/dist-packages (from gitpython>=2.1.0->mlflow) (3.7.4.3)\n",
            "Collecting smmap<5,>=3.0.1\n",
            "  Downloading smmap-4.0.0-py2.py3-none-any.whl (24 kB)\n",
            "Requirement already satisfied: zipp>=0.5 in /usr/local/lib/python3.7/dist-packages (from importlib-metadata!=4.7.0,>=3.7.0->mlflow) (3.5.0)\n",
            "Requirement already satisfied: urllib3!=1.25.0,!=1.25.1,<1.26,>=1.21.1 in /usr/local/lib/python3.7/dist-packages (from requests>=2.17.3->mlflow) (1.24.3)\n",
            "Requirement already satisfied: certifi>=2017.4.17 in /usr/local/lib/python3.7/dist-packages (from requests>=2.17.3->mlflow) (2021.5.30)\n",
            "Requirement already satisfied: chardet<4,>=3.0.2 in /usr/local/lib/python3.7/dist-packages (from requests>=2.17.3->mlflow) (3.0.4)\n",
            "Requirement already satisfied: idna<3,>=2.5 in /usr/local/lib/python3.7/dist-packages (from requests>=2.17.3->mlflow) (2.10)\n",
            "Requirement already satisfied: greenlet!=0.4.17 in /usr/local/lib/python3.7/dist-packages (from sqlalchemy->mlflow) (1.1.1)\n",
            "Requirement already satisfied: Werkzeug<2.0,>=0.15 in /usr/local/lib/python3.7/dist-packages (from Flask->mlflow) (1.0.1)\n",
            "Requirement already satisfied: itsdangerous<2.0,>=0.24 in /usr/local/lib/python3.7/dist-packages (from Flask->mlflow) (1.1.0)\n",
            "Requirement already satisfied: Jinja2<3.0,>=2.10.1 in /usr/local/lib/python3.7/dist-packages (from Flask->mlflow) (2.11.3)\n",
            "Requirement already satisfied: MarkupSafe>=0.23 in /usr/local/lib/python3.7/dist-packages (from Jinja2<3.0,>=2.10.1->Flask->mlflow) (2.0.1)\n",
            "Requirement already satisfied: setuptools>=3.0 in /usr/local/lib/python3.7/dist-packages (from gunicorn->mlflow) (57.4.0)\n",
            "Requirement already satisfied: pyparsing>=2.0.2 in /usr/local/lib/python3.7/dist-packages (from packaging->mlflow) (2.4.7)\n",
            "Requirement already satisfied: prometheus_client in /usr/local/lib/python3.7/dist-packages (from prometheus-flask-exporter->mlflow) (0.11.0)\n",
            "Building wheels for collected packages: alembic, databricks-cli, prometheus-flask-exporter\n",
            "  Building wheel for alembic (setup.py) ... \u001b[?25l\u001b[?25hdone\n",
            "  Created wheel for alembic: filename=alembic-1.4.1-py2.py3-none-any.whl size=158172 sha256=c51b4e59f80f72fe9500e354d736cb902f5eb8a9d83d592673ce1f4672762dd5\n",
            "  Stored in directory: /root/.cache/pip/wheels/be/5d/0a/9e13f53f4f5dfb67cd8d245bb7cdffe12f135846f491a283e3\n",
            "  Building wheel for databricks-cli (setup.py) ... \u001b[?25l\u001b[?25hdone\n",
            "  Created wheel for databricks-cli: filename=databricks_cli-0.15.0-py3-none-any.whl size=105260 sha256=cd22c528fc182756d941c3f854d0af36781ce1de299afe5e16f201de45b169ce\n",
            "  Stored in directory: /root/.cache/pip/wheels/e7/ba/75/284f9a90ff7a010bb23b9798f2e9a19dd9fe619379c917bff4\n",
            "  Building wheel for prometheus-flask-exporter (setup.py) ... \u001b[?25l\u001b[?25hdone\n",
            "  Created wheel for prometheus-flask-exporter: filename=prometheus_flask_exporter-0.18.2-py3-none-any.whl size=17415 sha256=db9dd2e5141c5567f38b9842bfb5e84dc4081a722e822a2a6847dbf5cd9c38a7\n",
            "  Stored in directory: /root/.cache/pip/wheels/6a/1e/1c/c765920cb92b2f0343d2dd8b481a407cee2823f9b4bbd2e52a\n",
            "Successfully built alembic databricks-cli prometheus-flask-exporter\n",
            "Installing collected packages: smmap, websocket-client, python-editor, Mako, gitdb, querystring-parser, pyyaml, prometheus-flask-exporter, gunicorn, gitpython, docker, databricks-cli, alembic, mlflow\n",
            "  Attempting uninstall: pyyaml\n",
            "    Found existing installation: PyYAML 3.13\n",
            "    Uninstalling PyYAML-3.13:\n",
            "      Successfully uninstalled PyYAML-3.13\n",
            "Successfully installed Mako-1.1.5 alembic-1.4.1 databricks-cli-0.15.0 docker-5.0.2 gitdb-4.0.7 gitpython-3.1.18 gunicorn-20.1.0 mlflow-1.20.1 prometheus-flask-exporter-0.18.2 python-editor-1.0.4 pyyaml-5.4.1 querystring-parser-1.2.4 smmap-4.0.0 websocket-client-1.2.1\n"
          ]
        }
      ]
    },
    {
      "cell_type": "code",
      "metadata": {
        "colab": {
          "base_uri": "https://localhost:8080/"
        },
        "id": "hYy1MhVt6aoE",
        "outputId": "718a3790-d0bb-44b7-ba95-f7220e86a188"
      },
      "source": [
        "!pip install pyngrok\n"
      ],
      "execution_count": 2,
      "outputs": [
        {
          "output_type": "stream",
          "name": "stdout",
          "text": [
            "Collecting pyngrok\n",
            "  Downloading pyngrok-5.1.0.tar.gz (745 kB)\n",
            "\u001b[?25l\r\u001b[K     |▍                               | 10 kB 24.3 MB/s eta 0:00:01\r\u001b[K     |▉                               | 20 kB 28.4 MB/s eta 0:00:01\r\u001b[K     |█▎                              | 30 kB 17.5 MB/s eta 0:00:01\r\u001b[K     |█▊                              | 40 kB 15.4 MB/s eta 0:00:01\r\u001b[K     |██▏                             | 51 kB 7.4 MB/s eta 0:00:01\r\u001b[K     |██▋                             | 61 kB 7.2 MB/s eta 0:00:01\r\u001b[K     |███                             | 71 kB 7.4 MB/s eta 0:00:01\r\u001b[K     |███▌                            | 81 kB 8.3 MB/s eta 0:00:01\r\u001b[K     |████                            | 92 kB 8.8 MB/s eta 0:00:01\r\u001b[K     |████▍                           | 102 kB 6.9 MB/s eta 0:00:01\r\u001b[K     |████▉                           | 112 kB 6.9 MB/s eta 0:00:01\r\u001b[K     |█████▎                          | 122 kB 6.9 MB/s eta 0:00:01\r\u001b[K     |█████▊                          | 133 kB 6.9 MB/s eta 0:00:01\r\u001b[K     |██████▏                         | 143 kB 6.9 MB/s eta 0:00:01\r\u001b[K     |██████▋                         | 153 kB 6.9 MB/s eta 0:00:01\r\u001b[K     |███████                         | 163 kB 6.9 MB/s eta 0:00:01\r\u001b[K     |███████▌                        | 174 kB 6.9 MB/s eta 0:00:01\r\u001b[K     |████████                        | 184 kB 6.9 MB/s eta 0:00:01\r\u001b[K     |████████▍                       | 194 kB 6.9 MB/s eta 0:00:01\r\u001b[K     |████████▉                       | 204 kB 6.9 MB/s eta 0:00:01\r\u001b[K     |█████████▎                      | 215 kB 6.9 MB/s eta 0:00:01\r\u001b[K     |█████████▊                      | 225 kB 6.9 MB/s eta 0:00:01\r\u001b[K     |██████████▏                     | 235 kB 6.9 MB/s eta 0:00:01\r\u001b[K     |██████████▌                     | 245 kB 6.9 MB/s eta 0:00:01\r\u001b[K     |███████████                     | 256 kB 6.9 MB/s eta 0:00:01\r\u001b[K     |███████████▍                    | 266 kB 6.9 MB/s eta 0:00:01\r\u001b[K     |███████████▉                    | 276 kB 6.9 MB/s eta 0:00:01\r\u001b[K     |████████████▎                   | 286 kB 6.9 MB/s eta 0:00:01\r\u001b[K     |████████████▊                   | 296 kB 6.9 MB/s eta 0:00:01\r\u001b[K     |█████████████▏                  | 307 kB 6.9 MB/s eta 0:00:01\r\u001b[K     |█████████████▋                  | 317 kB 6.9 MB/s eta 0:00:01\r\u001b[K     |██████████████                  | 327 kB 6.9 MB/s eta 0:00:01\r\u001b[K     |██████████████▌                 | 337 kB 6.9 MB/s eta 0:00:01\r\u001b[K     |███████████████                 | 348 kB 6.9 MB/s eta 0:00:01\r\u001b[K     |███████████████▍                | 358 kB 6.9 MB/s eta 0:00:01\r\u001b[K     |███████████████▉                | 368 kB 6.9 MB/s eta 0:00:01\r\u001b[K     |████████████████▎               | 378 kB 6.9 MB/s eta 0:00:01\r\u001b[K     |████████████████▊               | 389 kB 6.9 MB/s eta 0:00:01\r\u001b[K     |█████████████████▏              | 399 kB 6.9 MB/s eta 0:00:01\r\u001b[K     |█████████████████▋              | 409 kB 6.9 MB/s eta 0:00:01\r\u001b[K     |██████████████████              | 419 kB 6.9 MB/s eta 0:00:01\r\u001b[K     |██████████████████▌             | 430 kB 6.9 MB/s eta 0:00:01\r\u001b[K     |███████████████████             | 440 kB 6.9 MB/s eta 0:00:01\r\u001b[K     |███████████████████▍            | 450 kB 6.9 MB/s eta 0:00:01\r\u001b[K     |███████████████████▉            | 460 kB 6.9 MB/s eta 0:00:01\r\u001b[K     |████████████████████▎           | 471 kB 6.9 MB/s eta 0:00:01\r\u001b[K     |████████████████████▋           | 481 kB 6.9 MB/s eta 0:00:01\r\u001b[K     |█████████████████████           | 491 kB 6.9 MB/s eta 0:00:01\r\u001b[K     |█████████████████████▌          | 501 kB 6.9 MB/s eta 0:00:01\r\u001b[K     |██████████████████████          | 512 kB 6.9 MB/s eta 0:00:01\r\u001b[K     |██████████████████████▍         | 522 kB 6.9 MB/s eta 0:00:01\r\u001b[K     |██████████████████████▉         | 532 kB 6.9 MB/s eta 0:00:01\r\u001b[K     |███████████████████████▎        | 542 kB 6.9 MB/s eta 0:00:01\r\u001b[K     |███████████████████████▊        | 552 kB 6.9 MB/s eta 0:00:01\r\u001b[K     |████████████████████████▏       | 563 kB 6.9 MB/s eta 0:00:01\r\u001b[K     |████████████████████████▋       | 573 kB 6.9 MB/s eta 0:00:01\r\u001b[K     |█████████████████████████       | 583 kB 6.9 MB/s eta 0:00:01\r\u001b[K     |█████████████████████████▌      | 593 kB 6.9 MB/s eta 0:00:01\r\u001b[K     |██████████████████████████      | 604 kB 6.9 MB/s eta 0:00:01\r\u001b[K     |██████████████████████████▍     | 614 kB 6.9 MB/s eta 0:00:01\r\u001b[K     |██████████████████████████▉     | 624 kB 6.9 MB/s eta 0:00:01\r\u001b[K     |███████████████████████████▎    | 634 kB 6.9 MB/s eta 0:00:01\r\u001b[K     |███████████████████████████▊    | 645 kB 6.9 MB/s eta 0:00:01\r\u001b[K     |████████████████████████████▏   | 655 kB 6.9 MB/s eta 0:00:01\r\u001b[K     |████████████████████████████▋   | 665 kB 6.9 MB/s eta 0:00:01\r\u001b[K     |█████████████████████████████   | 675 kB 6.9 MB/s eta 0:00:01\r\u001b[K     |█████████████████████████████▌  | 686 kB 6.9 MB/s eta 0:00:01\r\u001b[K     |██████████████████████████████  | 696 kB 6.9 MB/s eta 0:00:01\r\u001b[K     |██████████████████████████████▍ | 706 kB 6.9 MB/s eta 0:00:01\r\u001b[K     |██████████████████████████████▊ | 716 kB 6.9 MB/s eta 0:00:01\r\u001b[K     |███████████████████████████████▏| 727 kB 6.9 MB/s eta 0:00:01\r\u001b[K     |███████████████████████████████▋| 737 kB 6.9 MB/s eta 0:00:01\r\u001b[K     |████████████████████████████████| 745 kB 6.9 MB/s \n",
            "\u001b[?25hRequirement already satisfied: PyYAML in /usr/local/lib/python3.7/dist-packages (from pyngrok) (5.4.1)\n",
            "Building wheels for collected packages: pyngrok\n",
            "  Building wheel for pyngrok (setup.py) ... \u001b[?25l\u001b[?25hdone\n",
            "  Created wheel for pyngrok: filename=pyngrok-5.1.0-py3-none-any.whl size=19006 sha256=169d1ec042cb299d6dbbc31da56fdf8b5555a69c0ab1d6bf51ba0227ba88c91e\n",
            "  Stored in directory: /root/.cache/pip/wheels/bf/e6/af/ccf6598ecefecd44104069371795cb9b3afbcd16987f6ccfb3\n",
            "Successfully built pyngrok\n",
            "Installing collected packages: pyngrok\n",
            "Successfully installed pyngrok-5.1.0\n"
          ]
        }
      ]
    },
    {
      "cell_type": "code",
      "metadata": {
        "id": "_2n0_4536uB8"
      },
      "source": [
        "get_ipython().system_raw(\"mlflow ui --port 5000 &\")"
      ],
      "execution_count": 3,
      "outputs": []
    },
    {
      "cell_type": "code",
      "metadata": {
        "id": "wsSSLHc166-m"
      },
      "source": [
        "from pyngrok import ngrok\n"
      ],
      "execution_count": 4,
      "outputs": []
    },
    {
      "cell_type": "code",
      "metadata": {
        "id": "cYP93dOY6_Hg"
      },
      "source": [
        "ngrok.kill()\n"
      ],
      "execution_count": 5,
      "outputs": []
    },
    {
      "cell_type": "code",
      "metadata": {
        "colab": {
          "base_uri": "https://localhost:8080/"
        },
        "id": "78RMcjbj7D-0",
        "outputId": "2aa624da-1b96-44f0-96ee-3af2980aa8eb"
      },
      "source": [
        "ngrok_tunnel = ngrok.connect(addr=\"5000\", proto=\"http\", bind_tls=True)\n"
      ],
      "execution_count": 6,
      "outputs": [
        {
          "output_type": "stream",
          "name": "stdout",
          "text": [
            ""
          ]
        }
      ]
    },
    {
      "cell_type": "code",
      "metadata": {
        "colab": {
          "base_uri": "https://localhost:8080/"
        },
        "id": "B_sn7cG_7Lcu",
        "outputId": "0ee1cba1-0db6-4954-af92-e64f827d5f6b"
      },
      "source": [
        "print(\"MLflow UI \", ngrok_tunnel.public_url)\n"
      ],
      "execution_count": 7,
      "outputs": [
        {
          "output_type": "stream",
          "name": "stdout",
          "text": [
            "MLflow UI  https://e01e-34-125-92-16.ngrok.io\n"
          ]
        }
      ]
    },
    {
      "cell_type": "code",
      "metadata": {
        "colab": {
          "base_uri": "https://localhost:8080/"
        },
        "id": "msB9UJ9C7Pbp",
        "outputId": "3545faa3-8d81-428b-8356-42c688fdfa12"
      },
      "source": [
        "import numpy as np\n",
        "import pandas as pd\n",
        "import mlflow\n",
        "import mlflow.sklearn\n",
        "\n",
        "if __name__ == \"__main__\":\n",
        "\n",
        "    mlflow.set_experiment(experiment_name=\"mlflow demo\")\n",
        "    \n",
        "    training_data = pd.read_csv('storepurchasedata.csv')\n",
        "    print(\"loaded training data\")\n",
        "\n",
        "    training_data.describe()\n",
        "    mlflow.log_param(\"training percentage\",60)\n",
        "\n",
        "    mlflow.log_param(\"dataset shape\",training_data.shape)\n",
        "    \n",
        "    X = training_data.iloc[:, :-1].values\n",
        "    y = training_data.iloc[:,-1].values\n",
        "    \n",
        "    from sklearn.model_selection import train_test_split\n",
        "    X_train, X_test, y_train, y_test = train_test_split(X, y, test_size =.4,random_state=0)\n",
        "    \n",
        "    from sklearn.preprocessing import StandardScaler\n",
        "    sc = StandardScaler()\n",
        "    X_train = sc.fit_transform(X_train)\n",
        "    X_test = sc.transform(X_test)\n",
        "    \n",
        "    print(\"Completed Feature Scaling\")\n",
        "    \n",
        "    from sklearn.neighbors import KNeighborsClassifier\n",
        "    # minkowski is for ecledian distance\n",
        "    classifier = KNeighborsClassifier(n_neighbors = 5, metric = 'minkowski', p = 2)\n",
        "    \n",
        "    # Model training\n",
        "    classifier.fit(X_train, y_train)\n",
        "    print(\"Model trained\")\n",
        "   \n",
        "    y_pred = classifier.predict(X_test)\n",
        "    y_prob = classifier.predict_proba(X_test)[:,1]\n",
        "    \n",
        "    from sklearn.metrics import confusion_matrix\n",
        "    \n",
        "    cm = confusion_matrix(y_test, y_pred)\n",
        "    \n",
        "    from sklearn.metrics import accuracy_score\n",
        "    \n",
        "    model_accuracy = accuracy_score(y_test,y_pred)\n",
        "    \n",
        "    print(model_accuracy)\n",
        "    \n",
        "    mlflow.log_metric(\"accuracy\", model_accuracy)\n",
        "    mlflow.sklearn.log_model(classifier, \"model\")\n",
        "    \n",
        "    "
      ],
      "execution_count": 8,
      "outputs": [
        {
          "output_type": "stream",
          "name": "stdout",
          "text": [
            "INFO: 'mlflow demo' does not exist. Creating a new experiment\n",
            "loaded training data\n",
            "Completed Feature Scaling\n",
            "Model trained\n",
            "0.8125\n"
          ]
        }
      ]
    },
    {
      "cell_type": "code",
      "metadata": {
        "id": "0D5eMZIU7m-X"
      },
      "source": [
        ""
      ],
      "execution_count": null,
      "outputs": []
    }
  ]
}